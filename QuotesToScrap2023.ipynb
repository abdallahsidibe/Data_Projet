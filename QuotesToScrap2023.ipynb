{
  "nbformat": 4,
  "nbformat_minor": 0,
  "metadata": {
    "colab": {
      "provenance": [],
      "include_colab_link": true
    },
    "kernelspec": {
      "name": "python3",
      "display_name": "Python 3"
    },
    "language_info": {
      "name": "python"
    }
  },
  "cells": [
    {
      "cell_type": "markdown",
      "metadata": {
        "id": "view-in-github",
        "colab_type": "text"
      },
      "source": [
        "<a href=\"https://colab.research.google.com/github/abdallahsidibe/Data_Projet/blob/master/QuotesToScrap2023.ipynb\" target=\"_parent\"><img src=\"https://colab.research.google.com/assets/colab-badge.svg\" alt=\"Open In Colab\"/></a>"
      ]
    },
    {
      "cell_type": "code",
      "execution_count": null,
      "metadata": {
        "id": "UhcFxJUjFxei"
      },
      "outputs": [],
      "source": [
        "import requests\n",
        "from bs4 import BeautifulSoup\n",
        "\n",
        "ROOT_URL = \"https://quotes.toscrape.com/\"\n",
        "site = requests.get(ROOT_URL)\n",
        "page = BeautifulSoup(site.content, 'html.parser')"
      ]
    },
    {
      "cell_type": "code",
      "source": [
        "single_quote = page.find(class_='quote')\n",
        "single_quote"
      ],
      "metadata": {
        "colab": {
          "base_uri": "https://localhost:8080/"
        },
        "id": "5MAuxy5HZrU5",
        "outputId": "93976b8f-b3e2-45e2-e913-97dba12cdce5"
      },
      "execution_count": null,
      "outputs": [
        {
          "output_type": "execute_result",
          "data": {
            "text/plain": [
              "<div class=\"quote\" itemscope=\"\" itemtype=\"http://schema.org/CreativeWork\">\n",
              "<span class=\"text\" itemprop=\"text\">“The world as we have created it is a process of our thinking. It cannot be changed without changing our thinking.”</span>\n",
              "<span>by <small class=\"author\" itemprop=\"author\">Albert Einstein</small>\n",
              "<a href=\"/author/Albert-Einstein\">(about)</a>\n",
              "</span>\n",
              "<div class=\"tags\">\n",
              "            Tags:\n",
              "            <meta class=\"keywords\" content=\"change,deep-thoughts,thinking,world\" itemprop=\"keywords\"/>\n",
              "<a class=\"tag\" href=\"/tag/change/page/1/\">change</a>\n",
              "<a class=\"tag\" href=\"/tag/deep-thoughts/page/1/\">deep-thoughts</a>\n",
              "<a class=\"tag\" href=\"/tag/thinking/page/1/\">thinking</a>\n",
              "<a class=\"tag\" href=\"/tag/world/page/1/\">world</a>\n",
              "</div>\n",
              "</div>"
            ]
          },
          "metadata": {},
          "execution_count": 10
        }
      ]
    },
    {
      "cell_type": "code",
      "source": [
        "citation = single_quote.find(class_='text').get_text() # citaiton\n",
        "auteur = single_quote.find(class_='author').get_text() #  nom et le prénom\n",
        "lien = single_quote.find('a')['href']  # lien about\n",
        "les_tags = single_quote.find_all(class_='tag')\n",
        "tags = [t.get_text() for t in les_tags] # la liste des tags\n",
        "tags"
      ],
      "metadata": {
        "colab": {
          "base_uri": "https://localhost:8080/"
        },
        "id": "ZK835DLJb_0w",
        "outputId": "91e9f404-99da-4fcc-ca41-cf06c606e2e9"
      },
      "execution_count": null,
      "outputs": [
        {
          "output_type": "execute_result",
          "data": {
            "text/plain": [
              "['change', 'deep-thoughts', 'thinking', 'world']"
            ]
          },
          "metadata": {},
          "execution_count": 11
        }
      ]
    },
    {
      "cell_type": "code",
      "source": [
        "print(citation)\n",
        "print(auteur)\n",
        "print(lien)\n",
        "print(tags)"
      ],
      "metadata": {
        "colab": {
          "base_uri": "https://localhost:8080/"
        },
        "id": "922m9EYcZHrI",
        "outputId": "caf29a18-401d-4afb-c8fc-7582ab4290d2"
      },
      "execution_count": null,
      "outputs": [
        {
          "output_type": "stream",
          "name": "stdout",
          "text": [
            "“The world as we have created it is a process of our thinking. It cannot be changed without changing our thinking.”\n",
            "Albert Einstein\n",
            "/author/Albert-Einstein\n",
            "['change', 'deep-thoughts', 'thinking', 'world']\n"
          ]
        }
      ]
    },
    {
      "cell_type": "code",
      "source": [
        "p = \"    bonjour tout le monde   \"\n",
        "print(p)\n",
        "print(\"[\",p,\"]\") # concaténation\n",
        "print(f\"[{p.strip()}]\") # supprimer les espaces au début et à la fin\n"
      ],
      "metadata": {
        "colab": {
          "base_uri": "https://localhost:8080/"
        },
        "id": "tvwj5ZLrhN7_",
        "outputId": "79db8c3d-b311-4c95-82f5-67efaa735569"
      },
      "execution_count": null,
      "outputs": [
        {
          "output_type": "stream",
          "name": "stdout",
          "text": [
            "    bonjour tout le monde   \n",
            "[     bonjour tout le monde    ]\n",
            "[bonjour tout le monde]\n"
          ]
        }
      ]
    },
    {
      "cell_type": "code",
      "source": [
        "# Récupérer les données sur une page citation\n",
        "# Récupérer les données sur tout le site 'page 10\n",
        "# Récupérer les données sur la page about\n",
        "\n",
        "# 14H 40 !!"
      ],
      "metadata": {
        "id": "FMgoNVmq3KZl"
      },
      "execution_count": null,
      "outputs": []
    },
    {
      "cell_type": "code",
      "source": [
        "# structure de données dictionnaire pour récupérer les citations\n",
        "\"\"\"\n",
        "quote = {\n",
        "\n",
        "         'citation': \"\",\n",
        "         'auteur': \"\",\n",
        "         'about': \"\",\n",
        "         'tags': []\n",
        "}\n",
        "\"\"\"\n",
        "\"\"\"\n",
        "author = {\n",
        "\n",
        "          'born': \"\",\n",
        "          'location': \"\",\n",
        "          'description': \"\"\n",
        "}\"\"\""
      ],
      "metadata": {
        "colab": {
          "base_uri": "https://localhost:8080/",
          "height": 36
        },
        "id": "F9rjcQ4nGe3y",
        "outputId": "95cc9453-85e7-494c-c2dd-f3e76644ee76"
      },
      "execution_count": null,
      "outputs": [
        {
          "output_type": "execute_result",
          "data": {
            "text/plain": [
              "'\\nauthor = {\\n\\n          \\'born\\': \"\",\\n          \\'location\\': \"\",\\n          \\'description\\': \"\"\\n}'"
            ],
            "application/vnd.google.colaboratory.intrinsic+json": {
              "type": "string"
            }
          },
          "metadata": {},
          "execution_count": 33
        }
      ]
    },
    {
      "cell_type": "markdown",
      "source": [
        "# Fonction pour récupérer les urls pour les 10 pages\n",
        "\n",
        "\n"
      ],
      "metadata": {
        "id": "A137I42uRJbN"
      }
    },
    {
      "cell_type": "code",
      "source": [
        "def get_quotes_urls():\n",
        "  urls = list() # la liste qui sera retourner avec toutes les urls du site\n",
        "  for page_number in range(1, 11):\n",
        "    chaine = ROOT_URL +\"/page/\" + str(page_number)\n",
        "    urls.append(chaine)\n",
        "  return urls"
      ],
      "metadata": {
        "id": "2Z5XPANjQyBG"
      },
      "execution_count": null,
      "outputs": []
    },
    {
      "cell_type": "markdown",
      "source": [
        "# Récupération des citations d'une page"
      ],
      "metadata": {
        "id": "8T2iQA8WQziO"
      }
    },
    {
      "cell_type": "code",
      "source": [
        "quotes = []  # liste des citations récupérées\n",
        "site_web = get_quotes_urls()  # on récupère les urls de tout le site\n",
        "# boucle pour parcourir chaque page du site de citations\n",
        "\n",
        "for url in site_web:\n",
        "  site = requests.get(url)\n",
        "  page = BeautifulSoup(site.content, 'html.parser')\n",
        "\n",
        "  one_page_quotes = page.find_all(class_='quote')\n",
        "  # boucle pour récupérer les citations d'une seule page\n",
        "  for single_quote in one_page_quotes:\n",
        "    quote = {}\n",
        "    citation = single_quote.find(class_='text').get_text().strip() # citaiton\n",
        "    citation = citation.replace(\"“\", \"\")\n",
        "    citation = citation.replace(\"”\", \"\")\n",
        "\n",
        "    auteur = single_quote.find(class_='author').get_text() #  nom et le prénom\n",
        "    lien = single_quote.find('a')['href']  # lien about\n",
        "    les_tags = single_quote.find_all(class_='tag')\n",
        "    tags = [t.get_text() for t in les_tags] # la liste des tags\n",
        "\n",
        "    # save data into dict\n",
        "    quote['citation'] = citation\n",
        "    quote['auteur'] = auteur\n",
        "    quote['about'] = lien\n",
        "    quote['tags'] = tags\n",
        "    # quote['page'] =  # option en plus\n",
        "    print(quote['about'])\n",
        "    quotes.append(quote)"
      ],
      "metadata": {
        "colab": {
          "base_uri": "https://localhost:8080/"
        },
        "id": "H-52TJx1IQ6R",
        "outputId": "d31f2825-1f93-4034-9ded-5cc3eb3f5a40"
      },
      "execution_count": null,
      "outputs": [
        {
          "output_type": "stream",
          "name": "stdout",
          "text": [
            "/author/Albert-Einstein\n",
            "/author/J-K-Rowling\n",
            "/author/Albert-Einstein\n",
            "/author/Jane-Austen\n",
            "/author/Marilyn-Monroe\n",
            "/author/Albert-Einstein\n",
            "/author/Andre-Gide\n",
            "/author/Thomas-A-Edison\n",
            "/author/Eleanor-Roosevelt\n",
            "/author/Steve-Martin\n",
            "/author/Marilyn-Monroe\n",
            "/author/J-K-Rowling\n",
            "/author/Albert-Einstein\n",
            "/author/Bob-Marley\n",
            "/author/Dr-Seuss\n",
            "/author/Douglas-Adams\n",
            "/author/Elie-Wiesel\n",
            "/author/Friedrich-Nietzsche\n",
            "/author/Mark-Twain\n",
            "/author/Allen-Saunders\n",
            "/author/Pablo-Neruda\n",
            "/author/Ralph-Waldo-Emerson\n",
            "/author/Mother-Teresa\n",
            "/author/Garrison-Keillor\n",
            "/author/Jim-Henson\n",
            "/author/Dr-Seuss\n",
            "/author/Albert-Einstein\n",
            "/author/J-K-Rowling\n",
            "/author/Albert-Einstein\n",
            "/author/Bob-Marley\n",
            "/author/Dr-Seuss\n",
            "/author/J-K-Rowling\n",
            "/author/Bob-Marley\n",
            "/author/Mother-Teresa\n",
            "/author/J-K-Rowling\n",
            "/author/Charles-M-Schulz\n",
            "/author/William-Nicholson\n",
            "/author/Albert-Einstein\n",
            "/author/Jorge-Luis-Borges\n",
            "/author/George-Eliot\n",
            "/author/George-R-R-Martin\n",
            "/author/C-S-Lewis\n",
            "/author/Marilyn-Monroe\n",
            "/author/Marilyn-Monroe\n",
            "/author/Albert-Einstein\n",
            "/author/Marilyn-Monroe\n",
            "/author/Marilyn-Monroe\n",
            "/author/Martin-Luther-King-Jr\n",
            "/author/J-K-Rowling\n",
            "/author/James-Baldwin\n",
            "/author/Jane-Austen\n",
            "/author/Eleanor-Roosevelt\n",
            "/author/Marilyn-Monroe\n",
            "/author/Albert-Einstein\n",
            "/author/Haruki-Murakami\n",
            "/author/Alexandre-Dumas-fils\n",
            "/author/Stephenie-Meyer\n",
            "/author/Ernest-Hemingway\n",
            "/author/Helen-Keller\n",
            "/author/George-Bernard-Shaw\n",
            "/author/Charles-Bukowski\n",
            "/author/Suzanne-Collins\n",
            "/author/Suzanne-Collins\n",
            "/author/C-S-Lewis\n",
            "/author/J-R-R-Tolkien\n",
            "/author/J-K-Rowling\n",
            "/author/Ernest-Hemingway\n",
            "/author/Ralph-Waldo-Emerson\n",
            "/author/Mark-Twain\n",
            "/author/Dr-Seuss\n",
            "/author/Alfred-Tennyson\n",
            "/author/Charles-Bukowski\n",
            "/author/Terry-Pratchett\n",
            "/author/Dr-Seuss\n",
            "/author/J-D-Salinger\n",
            "/author/George-Carlin\n",
            "/author/John-Lennon\n",
            "/author/W-C-Fields\n",
            "/author/Ayn-Rand\n",
            "/author/Mark-Twain\n",
            "/author/Albert-Einstein\n",
            "/author/Jane-Austen\n",
            "/author/J-K-Rowling\n",
            "/author/Jane-Austen\n",
            "/author/Jane-Austen\n",
            "/author/C-S-Lewis\n",
            "/author/C-S-Lewis\n",
            "/author/Mark-Twain\n",
            "/author/Mark-Twain\n",
            "/author/C-S-Lewis\n",
            "/author/J-K-Rowling\n",
            "/author/Jimi-Hendrix\n",
            "/author/J-M-Barrie\n",
            "/author/E-E-Cummings\n",
            "/author/Khaled-Hosseini\n",
            "/author/Harper-Lee\n",
            "/author/Madeleine-LEngle\n",
            "/author/Mark-Twain\n",
            "/author/Dr-Seuss\n",
            "/author/George-R-R-Martin\n"
          ]
        }
      ]
    },
    {
      "cell_type": "code",
      "source": [
        "print(quotes[0]['about'])"
      ],
      "metadata": {
        "colab": {
          "base_uri": "https://localhost:8080/"
        },
        "id": "iVUcKFJhODLt",
        "outputId": "1b572729-b838-4216-f39a-a6926b24a4fa"
      },
      "execution_count": null,
      "outputs": [
        {
          "output_type": "stream",
          "name": "stdout",
          "text": [
            "/author/Albert-Einstein\n"
          ]
        }
      ]
    },
    {
      "cell_type": "markdown",
      "source": [
        "# Récupérer les données dans la page about pour chaque auteur"
      ],
      "metadata": {
        "id": "sTNAN4SWXFJz"
      }
    },
    {
      "cell_type": "code",
      "source": [
        "# la liste de toutes les urls pour visiter la page about\n",
        "urls_about = list()\n",
        "for citation in quotes:\n",
        "  urls_about.append(citation['about'])"
      ],
      "metadata": {
        "id": "0Bste9M2XLae"
      },
      "execution_count": null,
      "outputs": []
    },
    {
      "cell_type": "code",
      "source": [
        "import pandas as pd\n",
        "\n",
        "# convertir la liste en dataframe Panda\n",
        "df = pd.DataFrame(urls_about, columns=['url'])\n",
        "\n",
        "# compte le nombre de doublon\n",
        "nb_doublons = df.duplicated().sum()\n",
        "print(f\"nb url doublons : {nb_doublons}\")  # 50 url en doubon\n",
        "# print(\"nb url doublons\", nb_doublons\")\n"
      ],
      "metadata": {
        "id": "MjnBhTyOZC9r"
      },
      "execution_count": null,
      "outputs": []
    },
    {
      "cell_type": "code",
      "source": [
        "print('nb url avant suppression:', len(urls_about))\n",
        "distinct_urls_about = set(urls_about)  # suppression des doublons avec le set\n",
        "print('nb url après suppression:', len(distinct_urls_about))\n",
        "\n"
      ],
      "metadata": {
        "colab": {
          "base_uri": "https://localhost:8080/"
        },
        "id": "byPOExUqfM8j",
        "outputId": "ecfe6224-a4d2-477f-99b1-866c1ff1a4e7"
      },
      "execution_count": null,
      "outputs": [
        {
          "output_type": "stream",
          "name": "stdout",
          "text": [
            "nb url avant suppression: 100\n",
            "nb url après suppression: 50\n"
          ]
        }
      ]
    },
    {
      "cell_type": "code",
      "source": [
        "for url in distinct_urls_about:\n",
        "  page_about_web = requests.get(url)\n",
        "  page_about = BeautifulSoup(page_about.content)"
      ],
      "metadata": {
        "id": "vEuYBo1FgC9e"
      },
      "execution_count": null,
      "outputs": []
    },
    {
      "cell_type": "code",
      "source": [
        "url = \"https://quotes.toscrape.com/author/Albert-Einstein/\"\n",
        "page_about_web = requests.get(url)\n",
        "page_about = BeautifulSoup(page_about_web.content)"
      ],
      "metadata": {
        "id": "o-Q_uFjdgxjn"
      },
      "execution_count": null,
      "outputs": []
    },
    {
      "cell_type": "code",
      "source": [
        "born_date = page_about.find(class_=\"author-born-date\").get_text()\n",
        "born_location = page_about.find(class_=\"author-born-location\").get_text()\n",
        "bio = page_about.find(class_=\"author-description\").get_text()\n",
        "print(born_date)\n",
        "print(born_location)\n",
        "print(bio)"
      ],
      "metadata": {
        "colab": {
          "base_uri": "https://localhost:8080/"
        },
        "id": "Y1g-VGTwg8fv",
        "outputId": "180a5aa5-4501-4f12-cacd-15c0ed90038d"
      },
      "execution_count": null,
      "outputs": [
        {
          "output_type": "stream",
          "name": "stdout",
          "text": [
            "March 14, 1879\n",
            "in Ulm, Germany\n",
            "\n",
            "        In 1879, Albert Einstein was born in Ulm, Germany. He completed his Ph.D. at the University of Zurich by 1909. His 1905 paper explaining the photoelectric effect, the basis of electronics, earned him the Nobel Prize in 1921. His first paper on Special Relativity Theory, also published in 1905, changed the world. After the rise of the Nazi party, Einstein made Princeton his permanent home, becoming a U.S. citizen in 1940. Einstein, a pacifist during World War I, stayed a firm proponent of social justice and responsibility. He chaired the Emergency Committee of Atomic Scientists, which organized to alert the public to the dangers of atomic warfare.At a symposium, he advised: \"In their struggle for the ethical good, teachers of religion must have the stature to give up the doctrine of a personal God, that is, give up that source of fear and hope which in the past placed such vast power in the hands of priests. In their labors they will have to avail themselves of those forces which are capable of cultivating the Good, the True, and the Beautiful in humanity itself. This is, to be sure a more difficult but an incomparably more worthy task . . . \" (\"Science, Philosophy and Religion, A Symposium,\" published by the Conference on Science, Philosophy and Religion in their Relation to the Democratic Way of Life, Inc., New York, 1941). In a letter to philosopher Eric Gutkind, dated Jan. 3, 1954, Einstein stated: \"The word god is for me nothing more than the expression and product of human weaknesses, the Bible a collection of honorable, but still primitive legends which are nevertheless pretty childish. No interpretation no matter how subtle can (for me) change this,\" (The Guardian, \"Childish superstition: Einstein's letter makes view of religion relatively clear,\" by James Randerson, May 13, 2008). D. 1955.While best known for his mass–energy equivalence formula E = mc2 (which has been dubbed \"the world's most famous equation\"), he received the 1921 Nobel Prize in Physics \"for his services to theoretical physics, and especially for his discovery of the law of the photoelectric effect\". The latter was pivotal in establishing quantum theory.Einstein thought that Newtonion mechanics was no longer enough to reconcile the laws of classical mechanics with the laws of the electromagnetic field. This led to the development of his special theory of relativity. He realized, however, that the principle of relativity could also be extended to gravitational fields, and with his subsequent theory of gravitation in 1916, he published a paper on the general theory of relativity. He continued to deal with problems of statistical mechanics and quantum theory, which led to his explanations of particle theory and the motion of molecules. He also investigated the thermal properties of light which laid the foundation of the photon theory of light.He was visiting the United States when Adolf Hitler came to power in 1933 and did not go back to Germany. On the eve of World War II, he endorsed a letter to President Franklin D. Roosevelt alerting him to the potential development of \"extremely powerful bombs of a new type\" and recommending that the U.S. begin similar research. This eventually led to what would become the Manhattan Project. Einstein supported defending the Allied forces, but largely denounced the idea of using the newly discovered nuclear fission as a weapon. Later, with Bertrand Russell, Einstein signed the Russell–Einstein Manifesto, which highlighted the danger of nuclear weapons. Einstein was affiliated with the Institute for Advanced Study in Princeton, New Jersey, until his death in 1955.His great intellectual achievements and originality have made the word \"Einstein\" synonymous with genius.More: http://en.wikipedia.org/wiki/Albert_E...http://www.nobelprize.org/nobel_prize...    \n",
            "    \n"
          ]
        }
      ]
    },
    {
      "cell_type": "markdown",
      "source": [],
      "metadata": {
        "id": "oPSkEoL53K2f"
      }
    }
  ]
}