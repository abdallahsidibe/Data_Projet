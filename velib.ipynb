{
  "nbformat": 4,
  "nbformat_minor": 0,
  "metadata": {
    "colab": {
      "provenance": [],
      "authorship_tag": "ABX9TyPshcmZj10P+FMM8PDWvZ40",
      "include_colab_link": true
    },
    "kernelspec": {
      "name": "python3",
      "display_name": "Python 3"
    },
    "language_info": {
      "name": "python"
    }
  },
  "cells": [
    {
      "cell_type": "markdown",
      "metadata": {
        "id": "view-in-github",
        "colab_type": "text"
      },
      "source": [
        "<a href=\"https://colab.research.google.com/github/abdallahsidibe/Data_Projet/blob/master/velib.ipynb\" target=\"_parent\"><img src=\"https://colab.research.google.com/assets/colab-badge.svg\" alt=\"Open In Colab\"/></a>"
      ]
    },
    {
      "cell_type": "code",
      "execution_count": null,
      "metadata": {
        "id": "UBmvCfVWi440"
      },
      "outputs": [],
      "source": [
        "import requests\n",
        "from bs4 import BeautifulSoup\n",
        "\n",
        "ROOT_URL = \"https://opendata.paris.fr/api/explore/v2.1/catalog/datasets/velib-disponibilite-en-temps-reel/records?limit=20\"\n",
        "site = requests.get(ROOT_URL)\n",
        "page = BeautifulSoup(site.content, 'html.parser')"
      ]
    },
    {
      "cell_type": "code",
      "source": [
        "page"
      ],
      "metadata": {
        "colab": {
          "base_uri": "https://localhost:8080/"
        },
        "id": "3k3NVJ4djF3v",
        "outputId": "a056cd17-997c-4c59-d8f6-39a7b816f86c"
      },
      "execution_count": null,
      "outputs": [
        {
          "output_type": "execute_result",
          "data": {
            "text/plain": [
              "{\"total_count\": 1469, \"results\": [{\"stationcode\": \"16107\", \"name\": \"Benjamin Godard - Victor Hugo\", \"is_installed\": \"OUI\", \"capacity\": 35, \"numdocksavailable\": 28, \"numbikesavailable\": 7, \"mechanical\": 2, \"ebike\": 5, \"is_renting\": \"OUI\", \"is_returning\": \"OUI\", \"duedate\": \"2023-11-29T13:39:45+00:00\", \"coordonnees_geo\": {\"lon\": 2.275725, \"lat\": 48.865983}, \"nom_arrondissement_communes\": \"Paris\", \"code_insee_commune\": null}, {\"stationcode\": \"44015\", \"name\": \"Rouget de L'isle - Watteau\", \"is_installed\": \"OUI\", \"capacity\": 20, \"numdocksavailable\": 13, \"numbikesavailable\": 7, \"mechanical\": 1, \"ebike\": 6, \"is_renting\": \"OUI\", \"is_returning\": \"OUI\", \"duedate\": \"2023-11-29T13:46:11+00:00\", \"coordonnees_geo\": {\"lon\": 2.3963020229163, \"lat\": 48.778192750803}, \"nom_arrondissement_communes\": \"Vitry-sur-Seine\", \"code_insee_commune\": null}, {\"stationcode\": \"12109\", \"name\": \"Mairie du 12\\u00e8me\", \"is_installed\": \"OUI\", \"capacity\": 30, \"numdocksavailable\": 27, \"numbikesavailable\": 3, \"mechanical\": 2, \"ebike\": 1, \"is_renting\": \"OUI\", \"is_returning\": \"OUI\", \"duedate\": \"2023-11-29T13:42:38+00:00\", \"coordonnees_geo\": {\"lon\": 2.3875549435616, \"lat\": 48.840855311763}, \"nom_arrondissement_communes\": \"Paris\", \"code_insee_commune\": null}, {\"stationcode\": \"8026\", \"name\": \"Messine - Place Du P\\u00e9rou\", \"is_installed\": \"OUI\", \"capacity\": 12, \"numdocksavailable\": 0, \"numbikesavailable\": 12, \"mechanical\": 4, \"ebike\": 8, \"is_renting\": \"OUI\", \"is_returning\": \"OUI\", \"duedate\": \"2023-11-29T13:46:38+00:00\", \"coordonnees_geo\": {\"lon\": 2.315508019010038, \"lat\": 48.875448033960744}, \"nom_arrondissement_communes\": \"Paris\", \"code_insee_commune\": null}, {\"stationcode\": \"13007\", \"name\": \"Le Brun - Gobelins\", \"is_installed\": \"OUI\", \"capacity\": 48, \"numdocksavailable\": 42, \"numbikesavailable\": 3, \"mechanical\": 2, \"ebike\": 1, \"is_renting\": \"OUI\", \"is_returning\": \"OUI\", \"duedate\": \"2023-11-29T13:47:40+00:00\", \"coordonnees_geo\": {\"lon\": 2.3534681351338, \"lat\": 48.835092787824}, \"nom_arrondissement_communes\": \"Paris\", \"code_insee_commune\": null}, {\"stationcode\": \"6003\", \"name\": \"Saint-Sulpice\", \"is_installed\": \"OUI\", \"capacity\": 21, \"numdocksavailable\": 0, \"numbikesavailable\": 21, \"mechanical\": 5, \"ebike\": 16, \"is_renting\": \"OUI\", \"is_returning\": \"OUI\", \"duedate\": \"2023-11-29T13:49:03+00:00\", \"coordonnees_geo\": {\"lon\": 2.3308077827095985, \"lat\": 48.85165383178419}, \"nom_arrondissement_communes\": \"Paris\", \"code_insee_commune\": null}, {\"stationcode\": \"5110\", \"name\": \"Lac\\u00e9p\\u00e8de - Monge\", \"is_installed\": \"OUI\", \"capacity\": 23, \"numdocksavailable\": 17, \"numbikesavailable\": 5, \"mechanical\": 5, \"ebike\": 0, \"is_renting\": \"OUI\", \"is_returning\": \"OUI\", \"duedate\": \"2023-11-29T13:48:55+00:00\", \"coordonnees_geo\": {\"lon\": 2.3519663885235786, \"lat\": 48.84389286531899}, \"nom_arrondissement_communes\": \"Paris\", \"code_insee_commune\": null}, {\"stationcode\": \"33006\", \"name\": \"Andr\\u00e9 Karman - R\\u00e9publique\", \"is_installed\": \"OUI\", \"capacity\": 31, \"numdocksavailable\": 16, \"numbikesavailable\": 14, \"mechanical\": 10, \"ebike\": 4, \"is_renting\": \"OUI\", \"is_returning\": \"OUI\", \"duedate\": \"2023-11-29T13:44:34+00:00\", \"coordonnees_geo\": {\"lon\": 2.3851355910301213, \"lat\": 48.91039875761846}, \"nom_arrondissement_communes\": \"Aubervilliers\", \"code_insee_commune\": null}, {\"stationcode\": \"41301\", \"name\": \"Bois de Vincennes - Gare\", \"is_installed\": \"OUI\", \"capacity\": 50, \"numdocksavailable\": 47, \"numbikesavailable\": 3, \"mechanical\": 3, \"ebike\": 0, \"is_renting\": \"OUI\", \"is_returning\": \"OUI\", \"duedate\": \"2023-11-29T13:43:14+00:00\", \"coordonnees_geo\": {\"lon\": 2.4708339950830287, \"lat\": 48.836022242886884}, \"nom_arrondissement_communes\": \"Nogent-sur-Marne\", \"code_insee_commune\": null}, {\"stationcode\": \"21010\", \"name\": \"Silly - Galli\\u00e9ni\", \"is_installed\": \"OUI\", \"capacity\": 25, \"numdocksavailable\": 15, \"numbikesavailable\": 10, \"mechanical\": 6, \"ebike\": 4, \"is_renting\": \"OUI\", \"is_returning\": \"OUI\", \"duedate\": \"2023-11-29T13:48:00+00:00\", \"coordonnees_geo\": {\"lon\": 2.2325500845909, \"lat\": 48.835583838706}, \"nom_arrondissement_communes\": \"Boulogne-Billancourt\", \"code_insee_commune\": null}, {\"stationcode\": \"30002\", \"name\": \"Jean Rostand - Paul Vaillant Couturier\", \"is_installed\": \"OUI\", \"capacity\": 40, \"numdocksavailable\": 23, \"numbikesavailable\": 14, \"mechanical\": 8, \"ebike\": 6, \"is_renting\": \"OUI\", \"is_returning\": \"OUI\", \"duedate\": \"2023-11-29T13:42:35+00:00\", \"coordonnees_geo\": {\"lon\": 2.4530601033354, \"lat\": 48.908168131015}, \"nom_arrondissement_communes\": \"Bobigny\", \"code_insee_commune\": null}, {\"stationcode\": \"17038\", \"name\": \"Grande Arm\\u00e9e - Brunel\", \"is_installed\": \"OUI\", \"capacity\": 62, \"numdocksavailable\": 17, \"numbikesavailable\": 44, \"mechanical\": 2, \"ebike\": 42, \"is_renting\": \"OUI\", \"is_returning\": \"OUI\", \"duedate\": \"2023-11-29T13:48:46+00:00\", \"coordonnees_geo\": {\"lon\": 2.288124, \"lat\": 48.876116}, \"nom_arrondissement_communes\": \"Paris\", \"code_insee_commune\": null}, {\"stationcode\": \"15202\", \"name\": \"Bracion - P\\u00e9riph\\u00e9rique\", \"is_installed\": \"OUI\", \"capacity\": 30, \"numdocksavailable\": 24, \"numbikesavailable\": 5, \"mechanical\": 0, \"ebike\": 5, \"is_renting\": \"OUI\", \"is_returning\": \"OUI\", \"duedate\": \"2023-11-29T13:49:09+00:00\", \"coordonnees_geo\": {\"lon\": 2.3004549373748, \"lat\": 48.826103771275}, \"nom_arrondissement_communes\": \"Paris\", \"code_insee_commune\": null}, {\"stationcode\": \"7003\", \"name\": \"Square Boucicaut\", \"is_installed\": \"OUI\", \"capacity\": 60, \"numdocksavailable\": 11, \"numbikesavailable\": 49, \"mechanical\": 19, \"ebike\": 30, \"is_renting\": \"OUI\", \"is_returning\": \"OUI\", \"duedate\": \"2023-11-29T13:48:22+00:00\", \"coordonnees_geo\": {\"lon\": 2.325061820447445, \"lat\": 48.851296433665276}, \"nom_arrondissement_communes\": \"Paris\", \"code_insee_commune\": null}, {\"stationcode\": \"17026\", \"name\": \"Jouffroy d'Abbans - Wagram\", \"is_installed\": \"OUI\", \"capacity\": 40, \"numdocksavailable\": 22, \"numbikesavailable\": 15, \"mechanical\": 7, \"ebike\": 8, \"is_renting\": \"OUI\", \"is_returning\": \"OUI\", \"duedate\": \"2023-11-29T13:48:52+00:00\", \"coordonnees_geo\": {\"lon\": 2.301132157445, \"lat\": 48.881973298352}, \"nom_arrondissement_communes\": \"Paris\", \"code_insee_commune\": null}, {\"stationcode\": \"5016\", \"name\": \"Thouin - Cardinal Lemoine\", \"is_installed\": \"OUI\", \"capacity\": 17, \"numdocksavailable\": 11, \"numbikesavailable\": 6, \"mechanical\": 1, \"ebike\": 5, \"is_renting\": \"OUI\", \"is_returning\": \"OUI\", \"duedate\": \"2023-11-29T13:45:05+00:00\", \"coordonnees_geo\": {\"lon\": 2.3494647851273465, \"lat\": 48.84504716661511}, \"nom_arrondissement_communes\": \"Paris\", \"code_insee_commune\": null}, {\"stationcode\": \"15047\", \"name\": \"Morillons - Dantzig\", \"is_installed\": \"OUI\", \"capacity\": 52, \"numdocksavailable\": 52, \"numbikesavailable\": 0, \"mechanical\": 0, \"ebike\": 0, \"is_renting\": \"OUI\", \"is_returning\": \"OUI\", \"duedate\": \"2023-11-29T13:48:13+00:00\", \"coordonnees_geo\": {\"lon\": 2.299380004405976, \"lat\": 48.83310149953933}, \"nom_arrondissement_communes\": \"Paris\", \"code_insee_commune\": null}, {\"stationcode\": \"31024\", \"name\": \"Romainville - Vaillant-Couturier\", \"is_installed\": \"OUI\", \"capacity\": 38, \"numdocksavailable\": 36, \"numbikesavailable\": 1, \"mechanical\": 0, \"ebike\": 1, \"is_renting\": \"OUI\", \"is_returning\": \"OUI\", \"duedate\": \"2023-11-29T13:44:43+00:00\", \"coordonnees_geo\": {\"lon\": 2.446748, \"lat\": 48.86785}, \"nom_arrondissement_communes\": \"Montreuil\", \"code_insee_commune\": null}, {\"stationcode\": \"15026\", \"name\": \"Bir Hakeim\", \"is_installed\": \"OUI\", \"capacity\": 33, \"numdocksavailable\": 12, \"numbikesavailable\": 18, \"mechanical\": 15, \"ebike\": 3, \"is_renting\": \"OUI\", \"is_returning\": \"OUI\", \"duedate\": \"2023-11-29T13:46:30+00:00\", \"coordonnees_geo\": {\"lon\": 2.289705348222022, \"lat\": 48.853844054333514}, \"nom_arrondissement_communes\": \"Paris\", \"code_insee_commune\": null}, {\"stationcode\": \"47007\", \"name\": \"Libert\\u00e9 - Vert-de-Maisons\", \"is_installed\": \"OUI\", \"capacity\": 20, \"numdocksavailable\": 20, \"numbikesavailable\": 0, \"mechanical\": 0, \"ebike\": 0, \"is_renting\": \"NON\", \"is_returning\": \"NON\", \"duedate\": \"2023-09-16T03:55:03+00:00\", \"coordonnees_geo\": {\"lon\": 2.4328628182411, \"lat\": 48.790147809608}, \"nom_arrondissement_communes\": \"Maisons-Alfort\", \"code_insee_commune\": null}]}"
            ]
          },
          "metadata": {},
          "execution_count": 2
        }
      ]
    }
  ]
}