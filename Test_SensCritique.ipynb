{
 "cells": [
  {
   "cell_type": "markdown",
   "metadata": {},
   "source": [
    "Salut!  \n",
    "On t'a importé la partie la plus intéressante notre base de données de films, que tu trouveras dans la variable __sc_films__ sous la forme d'un DataFrame pandas. Les différentes colonnes sont :\n",
    " - id : id du film dans notre base\n",
    " - title : titre du film\n",
    " - date_release : date de sortie du film. Si le jour ou le mois est égal à 00, c'est qu'il est inconnu.\n",
    " - rating : moyenne SensCritique de l'oeuvre, basée sur les notes des utilisateurs et pondérée en fonction de la fiabilité de l'utilisateur. Elle est souvent différente de la moyenne \"brute\" arithmétique de l'ordre d'un ou deux dizièmes. Exception notable : lorsque beaucoup d'utilisateurs créent un compte uniquement pour booster un film, ils augmentent ainsi artificiellement sa moyenne arithmétique, mais la moyenne SensCritique reste assez basse.\n",
    " - wish_list_count : nombre d'utilisateurs qui ont mis ce produit en envie\n",
    " - review_count : nombre de critiques de ce film\n",
    " - list_count : nombre de listes contenant ce produit\n",
    " - n_i : nombre d'utilisateurs ayant atrribué la note i (par exemple, n_3 : nombre d'utilisateur qui ont attribué un 3) "
   ]
  },
  {
   "cell_type": "markdown",
   "metadata": {},
   "source": [
    "En parallèle, tu as aussi accès au top 100 des tops 10, dans la variable __top_100_films__. Ce top est basé sur les réponses des utilisateurs au sondage qui leur demande leur top 10 films. On attribue des points aux films du top 10 de l'utilisateur, avec une prime aux films les mieux classés. On additionne ensuite les points gagnés par les films dans les différents tops, puis on fait un classement général. Les différentes colonnes sont :\n",
    " - rank : place dans le top 100\n",
    " - id : id du film dans notre base\n",
    " - title : titre du film"
   ]
  },
  {
   "cell_type": "code",
   "execution_count": null,
   "metadata": {},
   "outputs": [],
   "source": [
    "import pandas as pd"
   ]
  },
  {
   "cell_type": "code",
   "execution_count": null,
   "metadata": {},
   "outputs": [],
   "source": [
    "sc_films = pd.read_csv('sc_films.csv')\n",
    "top_100_films = pd.read_csv('top_100_films.csv')"
   ]
  },
  {
   "cell_type": "markdown",
   "metadata": {},
   "source": [
    "Ton objectif est d'utiliser les données de __sc_films__ pour créer ton propre classement qui sera le plus proche possible du top 100, et qui le prolongera pour créer un top 200. Tu peux utiliser les features de __sc_films__ comme tu préfères, et donner à la fin de ton code ton classement des __200__ meilleurs films du site, sous la même forme que __top_100_films__, avec 200 films au lieu de 100, stocker ton classement dans une variable __top_200_films__.  \n",
    "Pendant ton développement, tu peux bien sûr évaluer la qualité de ton classement en le comparant au top 100 que nous t'avons donné. Cependant, pour éviter l'overfitting, on comparera le classement que tu nous donnes à la partie cachée du top 100, qui contient les films entre la 101e et la 200e place.  \n",
    "Heuristiquement, ton top devra représenter les films à la fois les mieux notés et les plus regardés. Attention, beaucoup d'utilisateurs ayant établi leur top 10 avant 2015, les films sortis après cette date sont moins susceptibles d'être dans les top 10 des utilisateurs, et donc dans le top 100."
   ]
  },
  {
   "cell_type": "code",
   "execution_count": null,
   "metadata": {},
   "outputs": [],
   "source": [
    "top_200_films.to_csv('top_200_films.csv', index=False)"
   ]
  }
 ],
 "metadata": {
  "kernelspec": {
   "display_name": "Python 3",
   "language": "python",
   "name": "python3"
  },
  "language_info": {
   "codemirror_mode": {
    "name": "ipython",
    "version": 3
   },
   "file_extension": ".py",
   "mimetype": "text/x-python",
   "name": "python",
   "nbconvert_exporter": "python",
   "pygments_lexer": "ipython3",
   "version": "3.7.6"
  }
 },
 "nbformat": 4,
 "nbformat_minor": 4
}
